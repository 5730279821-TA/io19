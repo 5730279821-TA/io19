{
  "nbformat": 4,
  "nbformat_minor": 0,
  "metadata": {
    "colab": {
      "name": "F-to-C.ipynb",
      "version": "0.3.2",
      "provenance": []
    },
    "kernelspec": {
      "name": "python3",
      "display_name": "Python 3"
    }
  },
  "cells": [
    {
      "metadata": {
        "id": "GFZFY60ZhLUJ",
        "colab_type": "code",
        "colab": {}
      },
      "cell_type": "code",
      "source": [
        "import tensorflow as tf\n",
        "import numpy as np\n",
        "from tensorflow import keras\n",
        "\n",
        "print(tf.__version__)\n",
        "      \n",
        "model = tf.keras.Sequential([keras.layers.Dense(units=1, input_shape=[1])])\n",
        "      \n",
        "model.compile(loss='mean_squared_error',\n",
        "              optimizer=tf.keras.optimizers.Adam(0.1))\n",
        "\n",
        "xs = np.array([-40, -10,  0,  8, 15, 22,  38],  dtype=float)\n",
        "ys = np.array([-40,  14, 32, 46, 59, 72, 100],  dtype=float)\n",
        "\n",
        "model.fit(xs, ys, epochs=500)"
      ],
      "execution_count": 0,
      "outputs": []
    },
    {
      "metadata": {
        "id": "EpzLvUo4hcpq",
        "colab_type": "code",
        "colab": {}
      },
      "cell_type": "code",
      "source": [
        "print(model.predict([100.0]))"
      ],
      "execution_count": 0,
      "outputs": []
    },
    {
      "metadata": {
        "id": "9KrntjLMhe94",
        "colab_type": "code",
        "colab": {}
      },
      "cell_type": "code",
      "source": [
        "saved_model_path = \"/tmp/saved_models/f2c\"\n",
        "\n",
        "# For TensorFlow 2.0 use this:\n",
        "# tf.keras.experimental.export_saved_model(model, saved_model_path)\n",
        "\n",
        "# For TensorFlow 1.x use this:\n",
        "tf.contrib.saved_model.save_keras_model(model, saved_model_path)"
      ],
      "execution_count": 0,
      "outputs": []
    },
    {
      "metadata": {
        "id": "M6r6Sbb6hhdx",
        "colab_type": "code",
        "colab": {}
      },
      "cell_type": "code",
      "source": [
        "saved_model_dir = \"/tmp/saved_models/f2c/1556632514\"\n",
        "converter = tf.lite.TFLiteConverter.from_saved_model(saved_model_dir)\n",
        "tflite_model = converter.convert()\n",
        "open(\"/tmp/model.tflite\", \"wb\").write(tflite_model)"
      ],
      "execution_count": 0,
      "outputs": []
    }
  ]
}