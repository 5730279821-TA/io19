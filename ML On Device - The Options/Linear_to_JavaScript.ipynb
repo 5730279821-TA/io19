{
  "nbformat": 4,
  "nbformat_minor": 0,
  "metadata": {
    "colab": {
      "name": "Linear-to-JavaScript.ipynb",
      "version": "0.3.2",
      "provenance": [
        {
          "file_id": "1Aa_6zgDr53IyYdkyubWPvCJYTGzo7Ttr",
          "timestamp": 1554494369207
        }
      ],
      "collapsed_sections": []
    },
    "kernelspec": {
      "name": "python3",
      "display_name": "Python 3"
    },
    "accelerator": "GPU"
  },
  "cells": [
    {
      "cell_type": "code",
      "metadata": {
        "id": "pLTlDFwU1Ux_",
        "colab_type": "code",
        "colab": {}
      },
      "source": [
        "!pip install tensorflowjs==0.8.5"
      ],
      "execution_count": 0,
      "outputs": []
    },
    {
      "cell_type": "code",
      "metadata": {
        "id": "vNHv1d2K0Wxg",
        "colab_type": "code",
        "colab": {}
      },
      "source": [
        "import numpy as np\n",
        "import tensorflow as tf\n",
        "from tensorflow import keras\n",
        "print(tf.__version__)\n",
        "model = tf.keras.Sequential([keras.layers.Dense(units=1, input_shape=[1])])\n",
        "model.compile(optimizer='sgd', loss='mean_squared_error')\n",
        "xs = np.array([-1.0,  0.0, 1.0, 2.0, 3.0, 4.0], dtype=float)\n",
        "ys = np.array([-3.0, -1.0, 1.0, 3.0, 5.0, 7.0], dtype=float)\n",
        "model.fit(xs, ys, epochs=500)"
      ],
      "execution_count": 0,
      "outputs": []
    },
    {
      "cell_type": "code",
      "metadata": {
        "id": "AxSZ4DzJGEKy",
        "colab_type": "code",
        "colab": {}
      },
      "source": [
        "print(model.predict([10.0]))"
      ],
      "execution_count": 0,
      "outputs": []
    },
    {
      "cell_type": "code",
      "metadata": {
        "id": "t_xoCqeh2FRh",
        "colab_type": "code",
        "colab": {}
      },
      "source": [
        "import time\n",
        "saved_model_path = \"/tmp/saved_models/{}\".format(int(time.time()))\n",
        "\n",
        "# For TensorFlow 2.0 use this:\n",
        "# tf.keras.experimental.export_saved_model(model, saved_model_path)\n",
        "\n",
        "# For TensorFlow 1.x use this:\n",
        "tf.contrib.saved_model.save_keras_model(model, saved_model_path)"
      ],
      "execution_count": 0,
      "outputs": []
    },
    {
      "cell_type": "code",
      "metadata": {
        "id": "OPTG2UcT25mm",
        "colab_type": "code",
        "colab": {}
      },
      "source": [
        "# Note that to use this you will need the timestamped saved model directory from\n",
        "# the above node. Cange the /tmp/saved_models/<timestamp> to match yours\n",
        "!tensorflowjs_converter \\\n",
        "    --input_format=keras_saved_model \\\n",
        "    /tmp/saved_models/1554528640/1554528642 \\\n",
        "    /tmp/linear"
      ],
      "execution_count": 0,
      "outputs": []
    },
    {
      "cell_type": "code",
      "metadata": {
        "id": "yVerxLgUDSVO",
        "colab_type": "code",
        "colab": {}
      },
      "source": [
        "# If you want to save as .h5, this code is handy :)\n",
        "model.save(\"/tmp/linear.h5\");\n",
        "!tensorflowjs_converter \\\n",
        "    --input_format=keras \\\n",
        "    /tmp/linear.h5 \\\n",
        "    /tmp/linear-h5"
      ],
      "execution_count": 0,
      "outputs": []
    }
  ]
}
